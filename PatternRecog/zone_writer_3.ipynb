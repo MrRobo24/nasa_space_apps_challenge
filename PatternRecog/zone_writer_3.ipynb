{
 "cells": [
  {
   "cell_type": "code",
   "execution_count": 1,
   "metadata": {},
   "outputs": [],
   "source": [
    "import os\n",
    "import pandas as pd"
   ]
  },
  {
   "cell_type": "code",
   "execution_count": 2,
   "metadata": {},
   "outputs": [],
   "source": [
    "os.chdir(\"C:/Users/mr_ro/Documents/GitHub/nasa_space_apps_challenge/PatternRecog/zones\")"
   ]
  },
  {
   "cell_type": "code",
   "execution_count": 1,
   "metadata": {},
   "outputs": [],
   "source": [
    "import os\n",
    "import pandas as pd\n",
    "import matplotlib.pyplot as plt\n",
    "import numpy as np\n",
    "from sklearn.cluster import KMeans\n",
    "\n",
    "#loading the CSVs\n",
    "os.chdir(\"C:/Users/mr_ro/Documents/GitHub/nasa_space_apps_challenge/PatternRecog/output_cluster_200\")\n",
    "centroids_df = pd.read_csv(\"centers.csv\")\n",
    "labels_df = pd.read_csv(\"labels.csv\")\n",
    "os.chdir(\"C:/Users/mr_ro/Documents/GitHub/nasa_space_apps_challenge/PatternRecog\")\n",
    "df = pd.read_csv(\"india_v2.csv\",index_col = 0).sort_values(by=[\"latitude\"])\n",
    "\n",
    "os.chdir(\"C:/Users/mr_ro/Documents/GitHub/nasa_space_apps_challenge/PatternRecog/zones\")\n",
    "#experiment\n",
    "areaDfList = []\n",
    "#creating empty dataFrames\n",
    "for i in range(0,200):\n",
    "    areaDfList.append(pd.DataFrame([]))\n",
    "\n",
    "#populating dataFrames    \n",
    "for i in range(200000,300000):\n",
    "    areaDfList[labels_df.iloc[i,0]] = areaDfList[labels_df.iloc[i,0]].append([df.iloc[i,:]])\n",
    "\n",
    "#writing dataFrames\n",
    "for i in range(0,200):\n",
    "    name = \"zone_\"+str(i)+\".csv\"\n",
    "    areaDfList[i].to_csv(name,index = False, mode = 'a')"
   ]
  },
  {
   "cell_type": "code",
   "execution_count": null,
   "metadata": {},
   "outputs": [],
   "source": []
  }
 ],
 "metadata": {
  "kernelspec": {
   "display_name": "Python 3",
   "language": "python",
   "name": "python3"
  },
  "language_info": {
   "codemirror_mode": {
    "name": "ipython",
    "version": 3
   },
   "file_extension": ".py",
   "mimetype": "text/x-python",
   "name": "python",
   "nbconvert_exporter": "python",
   "pygments_lexer": "ipython3",
   "version": "3.7.0"
  }
 },
 "nbformat": 4,
 "nbformat_minor": 2
}
